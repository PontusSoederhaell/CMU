{
  "cells": [
    {
      "cell_type": "markdown",
      "id": "db807cc9",
      "metadata": {
        "id": "db807cc9"
      },
      "source": [
        "# Recitation 0I: AWS"
      ]
    },
    {
      "cell_type": "markdown",
      "id": "beebfbb2",
      "metadata": {
        "id": "beebfbb2"
      },
      "source": [
        "## Running an AWS instance"
      ]
    },
    {
      "cell_type": "markdown",
      "id": "f21b68c2",
      "metadata": {
        "id": "f21b68c2"
      },
      "source": [
        "Request a service quota increase"
      ]
    },
    {
      "cell_type": "markdown",
      "id": "a42e0968",
      "metadata": {
        "id": "a42e0968"
      },
      "source": [
        "Launch an instance AWS"
      ]
    },
    {
      "cell_type": "markdown",
      "source": [
        "## Connecting to an AWS instance"
      ],
      "metadata": {
        "id": "TbvBS96pzmfg"
      },
      "id": "TbvBS96pzmfg"
    },
    {
      "cell_type": "markdown",
      "id": "26691cc5",
      "metadata": {
        "id": "26691cc5"
      },
      "source": [
        "Change user access for the key file:\n",
        "```\n",
        "chmod 700 <key>\n",
        "```"
      ]
    },
    {
      "cell_type": "markdown",
      "id": "74e32c52",
      "metadata": {
        "id": "74e32c52"
      },
      "source": [
        "Connecting to the instance:\n",
        "```\n",
        "ssh -i <key> <user>@<hostname>\n",
        "```"
      ]
    },
    {
      "cell_type": "markdown",
      "id": "21e931c3",
      "metadata": {
        "id": "21e931c3"
      },
      "source": [
        "Sending a file to the instance\n",
        "```\n",
        "scp -i <key> <local_path> <user>@<hostname>:<remote_path>\n",
        "```"
      ]
    },
    {
      "cell_type": "markdown",
      "id": "b5bcc28e",
      "metadata": {
        "id": "b5bcc28e"
      },
      "source": [
        "Downloading a file to local\n",
        "```\n",
        "scp -i <key> <user>@<hostname>:<remote_path> <local_path>\n",
        "```"
      ]
    },
    {
      "cell_type": "markdown",
      "id": "c9447e73",
      "metadata": {
        "id": "c9447e73"
      },
      "source": [
        "## Running a notebook on AWS"
      ]
    },
    {
      "cell_type": "markdown",
      "id": "b9548b88",
      "metadata": {
        "id": "b9548b88"
      },
      "source": [
        "On server, start jupyter notebook:\n",
        "```\n",
        "jupyter notebook --no-browser --port=8888\n",
        "```\n",
        "\n",
        "The server will show `http://localhost:8888/?token=<TOKEN>`.\n",
        "\n",
        "Take note of the token."
      ]
    },
    {
      "cell_type": "markdown",
      "id": "044169f3",
      "metadata": {
        "id": "044169f3"
      },
      "source": [
        "Locally, connect to the specified server port:\n",
        "    \n",
        "```bash\n",
        "ssh -i <key> -L 8889:localhost:8888 <REMOTE_USER>@<REMOTE_HOST>\n",
        "```\n",
        "    \n",
        "Here `<PORT>` is the port number activated from the previous step."
      ]
    },
    {
      "cell_type": "markdown",
      "id": "b71b380c",
      "metadata": {
        "id": "b71b380c"
      },
      "source": [
        "On local browser, open `localhost:8889`\n",
        "- For token, take from the first step."
      ]
    },
    {
      "cell_type": "markdown",
      "source": [
        "## Connect to AWS instance using VS code"
      ],
      "metadata": {
        "id": "nJnC9xrBzuiI"
      },
      "id": "nJnC9xrBzuiI"
    },
    {
      "cell_type": "markdown",
      "source": [
        "Install remote-SSH extension"
      ],
      "metadata": {
        "id": "WVBD0LNJzykk"
      },
      "id": "WVBD0LNJzykk"
    },
    {
      "cell_type": "markdown",
      "source": [
        "click to add SSH remote and type the same ssh command"
      ],
      "metadata": {
        "id": "4qd9TbJ3z_uF"
      },
      "id": "4qd9TbJ3z_uF"
    },
    {
      "cell_type": "markdown",
      "source": [
        "```\n",
        "ssh -i <key> <user>@<hostname>\n",
        "```"
      ],
      "metadata": {
        "id": "UmEy8dsN2qMt"
      },
      "id": "UmEy8dsN2qMt"
    },
    {
      "cell_type": "markdown",
      "source": [
        "Check key path"
      ],
      "metadata": {
        "id": "H8ItYGX80KLx"
      },
      "id": "H8ItYGX80KLx"
    }
  ],
  "metadata": {
    "kernelspec": {
      "display_name": "Python 3 (ipykernel)",
      "language": "python",
      "name": "python3"
    },
    "language_info": {
      "codemirror_mode": {
        "name": "ipython",
        "version": 3
      },
      "file_extension": ".py",
      "mimetype": "text/x-python",
      "name": "python",
      "nbconvert_exporter": "python",
      "pygments_lexer": "ipython3",
      "version": "3.11.5"
    },
    "colab": {
      "provenance": []
    }
  },
  "nbformat": 4,
  "nbformat_minor": 5
}